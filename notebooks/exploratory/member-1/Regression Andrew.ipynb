{
 "cells": [
  {
   "cell_type": "code",
   "execution_count": 2,
   "id": "573bfff9",
   "metadata": {},
   "outputs": [],
   "source": [
    "import pandas as pd\n",
    "from sklearn.preprocessing import OneHotEncoder\n",
    "import numpy as np\n",
    "\n",
    "import statsmodels.api as sm\n",
    "from statsmodels.formula.api import ols\n",
    "\n",
    "from sklearn.linear_model import LinearRegression\n",
    "from sklearn import metrics\n",
    "\n",
    "from sklearn.model_selection import train_test_split\n",
    "from sklearn.metrics import mean_squared_error\n",
    "\n",
    "from sklearn.model_selection import cross_val_score\n",
    "\n",
    "from sklearn.preprocessing import StandardScaler\n",
    "\n",
    "import seaborn as sns\n",
    "\n",
    "import matplotlib.pyplot as plt\n",
    "\n",
    "from sklearn import *\n",
    "\n",
    "from sklearn.feature_selection import RFE\n"
   ]
  },
  {
   "cell_type": "code",
   "execution_count": 3,
   "id": "f5316fe3",
   "metadata": {},
   "outputs": [],
   "source": [
    "df = pd.read_csv('../../../data/Clean_data.csv')"
   ]
  },
  {
   "cell_type": "code",
   "execution_count": null,
   "id": "d814c9a7",
   "metadata": {},
   "outputs": [],
   "source": []
  },
  {
   "cell_type": "code",
   "execution_count": 4,
   "id": "36405bab",
   "metadata": {},
   "outputs": [],
   "source": [
    "df.dropna(inplace=True)\n",
    "df.drop(['zipcode', 'lat','long'],axis=1, inplace=True)"
   ]
  },
  {
   "cell_type": "code",
   "execution_count": 7,
   "id": "23765ae7",
   "metadata": {},
   "outputs": [
    {
     "name": "stdout",
     "output_type": "stream",
     "text": [
      "<class 'pandas.core.frame.DataFrame'>\n",
      "Int64Index: 21242 entries, 0 to 21418\n",
      "Data columns (total 44 columns):\n",
      " #   Column            Non-Null Count  Dtype  \n",
      "---  ------            --------------  -----  \n",
      " 0   price             21242 non-null  float64\n",
      " 1   bedrooms          21242 non-null  float64\n",
      " 2   bathrooms         21242 non-null  float64\n",
      " 3   sqft_living       21242 non-null  float64\n",
      " 4   sqft_lot          21242 non-null  float64\n",
      " 5   floors            21242 non-null  float64\n",
      " 6   waterfront        21242 non-null  int64  \n",
      " 7   view              21242 non-null  float64\n",
      " 8   condition         21242 non-null  float64\n",
      " 9   grade             21242 non-null  float64\n",
      " 10  sqft_above        21242 non-null  float64\n",
      " 11  basement          21242 non-null  int64  \n",
      " 12  yr_built          21242 non-null  float64\n",
      " 13  yr_renovated      21242 non-null  float64\n",
      " 14  sqft_living15     21242 non-null  float64\n",
      " 15  sqft_lot15        21242 non-null  float64\n",
      " 16  Auburn            21242 non-null  float64\n",
      " 17  Bellevue          21242 non-null  float64\n",
      " 18  Black_diamond     21242 non-null  float64\n",
      " 19  Bothell           21242 non-null  float64\n",
      " 20  Duball            21242 non-null  float64\n",
      " 21  Enumclaw          21242 non-null  float64\n",
      " 22  Fall city         21242 non-null  float64\n",
      " 23  Federal_way       21242 non-null  float64\n",
      " 24  Issaquah          21242 non-null  float64\n",
      " 25  Kenmore           21242 non-null  float64\n",
      " 26  Kent              21242 non-null  float64\n",
      " 27  Kirkland          21242 non-null  float64\n",
      " 28  Maple Valley      21242 non-null  float64\n",
      " 29  Medina            21242 non-null  float64\n",
      " 30  Mercer Island     21242 non-null  float64\n",
      " 31  North Bend        21242 non-null  float64\n",
      " 32  Renton            21242 non-null  float64\n",
      " 33  Sammamish         21242 non-null  float64\n",
      " 34  Seattle           21242 non-null  float64\n",
      " 35  Snoqualmie        21242 non-null  float64\n",
      " 36  Woodinville       21242 non-null  float64\n",
      " 37  sqft_living_diff  21242 non-null  float64\n",
      " 38  sqft_lot_diff     21242 non-null  float64\n",
      " 39  year              21242 non-null  float64\n",
      " 40  x0_fall           21242 non-null  float64\n",
      " 41  x0_spring         21242 non-null  float64\n",
      " 42  x0_summer         21242 non-null  float64\n",
      " 43  x0_winter         21242 non-null  float64\n",
      "dtypes: float64(42), int64(2)\n",
      "memory usage: 7.3 MB\n"
     ]
    }
   ],
   "source": [
    "df.info()"
   ]
  },
  {
   "cell_type": "code",
   "execution_count": 5,
   "id": "610d6ef0",
   "metadata": {},
   "outputs": [
    {
     "data": {
      "text/html": [
       "<div>\n",
       "<style scoped>\n",
       "    .dataframe tbody tr th:only-of-type {\n",
       "        vertical-align: middle;\n",
       "    }\n",
       "\n",
       "    .dataframe tbody tr th {\n",
       "        vertical-align: top;\n",
       "    }\n",
       "\n",
       "    .dataframe thead th {\n",
       "        text-align: right;\n",
       "    }\n",
       "</style>\n",
       "<table border=\"1\" class=\"dataframe\">\n",
       "  <thead>\n",
       "    <tr style=\"text-align: right;\">\n",
       "      <th></th>\n",
       "      <th>price</th>\n",
       "      <th>bedrooms</th>\n",
       "      <th>bathrooms</th>\n",
       "      <th>sqft_living</th>\n",
       "      <th>sqft_lot</th>\n",
       "      <th>floors</th>\n",
       "      <th>waterfront</th>\n",
       "      <th>view</th>\n",
       "      <th>condition</th>\n",
       "      <th>grade</th>\n",
       "      <th>...</th>\n",
       "      <th>Seattle</th>\n",
       "      <th>Snoqualmie</th>\n",
       "      <th>Woodinville</th>\n",
       "      <th>sqft_living_diff</th>\n",
       "      <th>sqft_lot_diff</th>\n",
       "      <th>year</th>\n",
       "      <th>x0_fall</th>\n",
       "      <th>x0_spring</th>\n",
       "      <th>x0_summer</th>\n",
       "      <th>x0_winter</th>\n",
       "    </tr>\n",
       "  </thead>\n",
       "  <tbody>\n",
       "    <tr>\n",
       "      <th>count</th>\n",
       "      <td>2.124200e+04</td>\n",
       "      <td>21242.000000</td>\n",
       "      <td>21242.000000</td>\n",
       "      <td>21242.000000</td>\n",
       "      <td>2.124200e+04</td>\n",
       "      <td>21242.000000</td>\n",
       "      <td>21242.000000</td>\n",
       "      <td>21242.000000</td>\n",
       "      <td>21242.000000</td>\n",
       "      <td>21242.000000</td>\n",
       "      <td>...</td>\n",
       "      <td>21242.000000</td>\n",
       "      <td>21242.000000</td>\n",
       "      <td>21242.000000</td>\n",
       "      <td>21242.000000</td>\n",
       "      <td>2.124200e+04</td>\n",
       "      <td>21242.000000</td>\n",
       "      <td>21242.000000</td>\n",
       "      <td>21242.000000</td>\n",
       "      <td>21242.000000</td>\n",
       "      <td>21242.000000</td>\n",
       "    </tr>\n",
       "    <tr>\n",
       "      <th>mean</th>\n",
       "      <td>5.408825e+05</td>\n",
       "      <td>3.372187</td>\n",
       "      <td>2.113819</td>\n",
       "      <td>2080.686047</td>\n",
       "      <td>1.518277e+04</td>\n",
       "      <td>1.490514</td>\n",
       "      <td>0.006826</td>\n",
       "      <td>0.234582</td>\n",
       "      <td>3.414085</td>\n",
       "      <td>7.656530</td>\n",
       "      <td>...</td>\n",
       "      <td>0.465022</td>\n",
       "      <td>0.014123</td>\n",
       "      <td>0.022032</td>\n",
       "      <td>93.509651</td>\n",
       "      <td>2.370621e+03</td>\n",
       "      <td>2014.325111</td>\n",
       "      <td>0.233217</td>\n",
       "      <td>0.303079</td>\n",
       "      <td>0.292016</td>\n",
       "      <td>0.171688</td>\n",
       "    </tr>\n",
       "    <tr>\n",
       "      <th>std</th>\n",
       "      <td>3.663801e+05</td>\n",
       "      <td>0.902723</td>\n",
       "      <td>0.767231</td>\n",
       "      <td>916.176455</td>\n",
       "      <td>4.165428e+04</td>\n",
       "      <td>0.537136</td>\n",
       "      <td>0.082340</td>\n",
       "      <td>0.766454</td>\n",
       "      <td>0.651569</td>\n",
       "      <td>1.170025</td>\n",
       "      <td>...</td>\n",
       "      <td>0.498787</td>\n",
       "      <td>0.118001</td>\n",
       "      <td>0.146790</td>\n",
       "      <td>599.606992</td>\n",
       "      <td>2.913490e+04</td>\n",
       "      <td>0.468427</td>\n",
       "      <td>0.422889</td>\n",
       "      <td>0.459600</td>\n",
       "      <td>0.454700</td>\n",
       "      <td>0.377118</td>\n",
       "    </tr>\n",
       "    <tr>\n",
       "      <th>min</th>\n",
       "      <td>7.800000e+04</td>\n",
       "      <td>1.000000</td>\n",
       "      <td>0.500000</td>\n",
       "      <td>370.000000</td>\n",
       "      <td>5.200000e+02</td>\n",
       "      <td>1.000000</td>\n",
       "      <td>0.000000</td>\n",
       "      <td>0.000000</td>\n",
       "      <td>1.000000</td>\n",
       "      <td>3.000000</td>\n",
       "      <td>...</td>\n",
       "      <td>0.000000</td>\n",
       "      <td>0.000000</td>\n",
       "      <td>0.000000</td>\n",
       "      <td>-2310.000000</td>\n",
       "      <td>-3.268790e+05</td>\n",
       "      <td>2014.000000</td>\n",
       "      <td>0.000000</td>\n",
       "      <td>0.000000</td>\n",
       "      <td>0.000000</td>\n",
       "      <td>0.000000</td>\n",
       "    </tr>\n",
       "    <tr>\n",
       "      <th>25%</th>\n",
       "      <td>3.230000e+05</td>\n",
       "      <td>3.000000</td>\n",
       "      <td>1.750000</td>\n",
       "      <td>1430.000000</td>\n",
       "      <td>5.070000e+03</td>\n",
       "      <td>1.000000</td>\n",
       "      <td>0.000000</td>\n",
       "      <td>0.000000</td>\n",
       "      <td>3.000000</td>\n",
       "      <td>7.000000</td>\n",
       "      <td>...</td>\n",
       "      <td>0.000000</td>\n",
       "      <td>0.000000</td>\n",
       "      <td>0.000000</td>\n",
       "      <td>-220.000000</td>\n",
       "      <td>-4.197500e+02</td>\n",
       "      <td>2014.000000</td>\n",
       "      <td>0.000000</td>\n",
       "      <td>0.000000</td>\n",
       "      <td>0.000000</td>\n",
       "      <td>0.000000</td>\n",
       "    </tr>\n",
       "    <tr>\n",
       "      <th>50%</th>\n",
       "      <td>4.500000e+05</td>\n",
       "      <td>3.000000</td>\n",
       "      <td>2.250000</td>\n",
       "      <td>1920.000000</td>\n",
       "      <td>7.623000e+03</td>\n",
       "      <td>1.500000</td>\n",
       "      <td>0.000000</td>\n",
       "      <td>0.000000</td>\n",
       "      <td>3.000000</td>\n",
       "      <td>7.000000</td>\n",
       "      <td>...</td>\n",
       "      <td>0.000000</td>\n",
       "      <td>0.000000</td>\n",
       "      <td>0.000000</td>\n",
       "      <td>0.000000</td>\n",
       "      <td>0.000000e+00</td>\n",
       "      <td>2014.000000</td>\n",
       "      <td>0.000000</td>\n",
       "      <td>0.000000</td>\n",
       "      <td>0.000000</td>\n",
       "      <td>0.000000</td>\n",
       "    </tr>\n",
       "    <tr>\n",
       "      <th>75%</th>\n",
       "      <td>6.450000e+05</td>\n",
       "      <td>4.000000</td>\n",
       "      <td>2.500000</td>\n",
       "      <td>2550.000000</td>\n",
       "      <td>1.072150e+04</td>\n",
       "      <td>2.000000</td>\n",
       "      <td>0.000000</td>\n",
       "      <td>0.000000</td>\n",
       "      <td>4.000000</td>\n",
       "      <td>8.000000</td>\n",
       "      <td>...</td>\n",
       "      <td>1.000000</td>\n",
       "      <td>0.000000</td>\n",
       "      <td>0.000000</td>\n",
       "      <td>310.000000</td>\n",
       "      <td>6.860000e+02</td>\n",
       "      <td>2015.000000</td>\n",
       "      <td>0.000000</td>\n",
       "      <td>1.000000</td>\n",
       "      <td>1.000000</td>\n",
       "      <td>0.000000</td>\n",
       "    </tr>\n",
       "    <tr>\n",
       "      <th>max</th>\n",
       "      <td>7.700000e+06</td>\n",
       "      <td>11.000000</td>\n",
       "      <td>8.000000</td>\n",
       "      <td>13540.000000</td>\n",
       "      <td>1.651359e+06</td>\n",
       "      <td>3.500000</td>\n",
       "      <td>1.000000</td>\n",
       "      <td>4.000000</td>\n",
       "      <td>5.000000</td>\n",
       "      <td>13.000000</td>\n",
       "      <td>...</td>\n",
       "      <td>1.000000</td>\n",
       "      <td>1.000000</td>\n",
       "      <td>1.000000</td>\n",
       "      <td>8690.000000</td>\n",
       "      <td>1.225778e+06</td>\n",
       "      <td>2015.000000</td>\n",
       "      <td>1.000000</td>\n",
       "      <td>1.000000</td>\n",
       "      <td>1.000000</td>\n",
       "      <td>1.000000</td>\n",
       "    </tr>\n",
       "  </tbody>\n",
       "</table>\n",
       "<p>8 rows × 44 columns</p>\n",
       "</div>"
      ],
      "text/plain": [
       "              price      bedrooms     bathrooms   sqft_living      sqft_lot  \\\n",
       "count  2.124200e+04  21242.000000  21242.000000  21242.000000  2.124200e+04   \n",
       "mean   5.408825e+05      3.372187      2.113819   2080.686047  1.518277e+04   \n",
       "std    3.663801e+05      0.902723      0.767231    916.176455  4.165428e+04   \n",
       "min    7.800000e+04      1.000000      0.500000    370.000000  5.200000e+02   \n",
       "25%    3.230000e+05      3.000000      1.750000   1430.000000  5.070000e+03   \n",
       "50%    4.500000e+05      3.000000      2.250000   1920.000000  7.623000e+03   \n",
       "75%    6.450000e+05      4.000000      2.500000   2550.000000  1.072150e+04   \n",
       "max    7.700000e+06     11.000000      8.000000  13540.000000  1.651359e+06   \n",
       "\n",
       "             floors    waterfront          view     condition         grade  \\\n",
       "count  21242.000000  21242.000000  21242.000000  21242.000000  21242.000000   \n",
       "mean       1.490514      0.006826      0.234582      3.414085      7.656530   \n",
       "std        0.537136      0.082340      0.766454      0.651569      1.170025   \n",
       "min        1.000000      0.000000      0.000000      1.000000      3.000000   \n",
       "25%        1.000000      0.000000      0.000000      3.000000      7.000000   \n",
       "50%        1.500000      0.000000      0.000000      3.000000      7.000000   \n",
       "75%        2.000000      0.000000      0.000000      4.000000      8.000000   \n",
       "max        3.500000      1.000000      4.000000      5.000000     13.000000   \n",
       "\n",
       "       ...       Seattle    Snoqualmie   Woodinville  sqft_living_diff  \\\n",
       "count  ...  21242.000000  21242.000000  21242.000000      21242.000000   \n",
       "mean   ...      0.465022      0.014123      0.022032         93.509651   \n",
       "std    ...      0.498787      0.118001      0.146790        599.606992   \n",
       "min    ...      0.000000      0.000000      0.000000      -2310.000000   \n",
       "25%    ...      0.000000      0.000000      0.000000       -220.000000   \n",
       "50%    ...      0.000000      0.000000      0.000000          0.000000   \n",
       "75%    ...      1.000000      0.000000      0.000000        310.000000   \n",
       "max    ...      1.000000      1.000000      1.000000       8690.000000   \n",
       "\n",
       "       sqft_lot_diff          year       x0_fall     x0_spring     x0_summer  \\\n",
       "count   2.124200e+04  21242.000000  21242.000000  21242.000000  21242.000000   \n",
       "mean    2.370621e+03   2014.325111      0.233217      0.303079      0.292016   \n",
       "std     2.913490e+04      0.468427      0.422889      0.459600      0.454700   \n",
       "min    -3.268790e+05   2014.000000      0.000000      0.000000      0.000000   \n",
       "25%    -4.197500e+02   2014.000000      0.000000      0.000000      0.000000   \n",
       "50%     0.000000e+00   2014.000000      0.000000      0.000000      0.000000   \n",
       "75%     6.860000e+02   2015.000000      0.000000      1.000000      1.000000   \n",
       "max     1.225778e+06   2015.000000      1.000000      1.000000      1.000000   \n",
       "\n",
       "          x0_winter  \n",
       "count  21242.000000  \n",
       "mean       0.171688  \n",
       "std        0.377118  \n",
       "min        0.000000  \n",
       "25%        0.000000  \n",
       "50%        0.000000  \n",
       "75%        0.000000  \n",
       "max        1.000000  \n",
       "\n",
       "[8 rows x 44 columns]"
      ]
     },
     "execution_count": 5,
     "metadata": {},
     "output_type": "execute_result"
    }
   ],
   "source": [
    "\n",
    "\n",
    "df.describe()\n",
    "prce, bedrooms, bathroom, sqft_living, sqft_lot, floors. condition, grade,sqft_living_diff, qft_lot_diff, year"
   ]
  },
  {
   "cell_type": "code",
   "execution_count": 6,
   "id": "794043c8",
   "metadata": {},
   "outputs": [
    {
     "name": "stdout",
     "output_type": "stream",
     "text": [
      "<class 'pandas.core.frame.DataFrame'>\n",
      "Int64Index: 21242 entries, 0 to 21418\n",
      "Data columns (total 44 columns):\n",
      " #   Column            Non-Null Count  Dtype  \n",
      "---  ------            --------------  -----  \n",
      " 0   price             21242 non-null  float64\n",
      " 1   bedrooms          21242 non-null  float64\n",
      " 2   bathrooms         21242 non-null  float64\n",
      " 3   sqft_living       21242 non-null  float64\n",
      " 4   sqft_lot          21242 non-null  float64\n",
      " 5   floors            21242 non-null  float64\n",
      " 6   waterfront        21242 non-null  int64  \n",
      " 7   view              21242 non-null  float64\n",
      " 8   condition         21242 non-null  float64\n",
      " 9   grade             21242 non-null  float64\n",
      " 10  sqft_above        21242 non-null  float64\n",
      " 11  basement          21242 non-null  int64  \n",
      " 12  yr_built          21242 non-null  float64\n",
      " 13  yr_renovated      21242 non-null  float64\n",
      " 14  sqft_living15     21242 non-null  float64\n",
      " 15  sqft_lot15        21242 non-null  float64\n",
      " 16  Auburn            21242 non-null  float64\n",
      " 17  Bellevue          21242 non-null  float64\n",
      " 18  Black_diamond     21242 non-null  float64\n",
      " 19  Bothell           21242 non-null  float64\n",
      " 20  Duball            21242 non-null  float64\n",
      " 21  Enumclaw          21242 non-null  float64\n",
      " 22  Fall city         21242 non-null  float64\n",
      " 23  Federal_way       21242 non-null  float64\n",
      " 24  Issaquah          21242 non-null  float64\n",
      " 25  Kenmore           21242 non-null  float64\n",
      " 26  Kent              21242 non-null  float64\n",
      " 27  Kirkland          21242 non-null  float64\n",
      " 28  Maple Valley      21242 non-null  float64\n",
      " 29  Medina            21242 non-null  float64\n",
      " 30  Mercer Island     21242 non-null  float64\n",
      " 31  North Bend        21242 non-null  float64\n",
      " 32  Renton            21242 non-null  float64\n",
      " 33  Sammamish         21242 non-null  float64\n",
      " 34  Seattle           21242 non-null  float64\n",
      " 35  Snoqualmie        21242 non-null  float64\n",
      " 36  Woodinville       21242 non-null  float64\n",
      " 37  sqft_living_diff  21242 non-null  float64\n",
      " 38  sqft_lot_diff     21242 non-null  float64\n",
      " 39  year              21242 non-null  float64\n",
      " 40  x0_fall           21242 non-null  float64\n",
      " 41  x0_spring         21242 non-null  float64\n",
      " 42  x0_summer         21242 non-null  float64\n",
      " 43  x0_winter         21242 non-null  float64\n",
      "dtypes: float64(42), int64(2)\n",
      "memory usage: 7.3 MB\n"
     ]
    }
   ],
   "source": [
    "df.info()"
   ]
  },
  {
   "cell_type": "code",
   "execution_count": 4,
   "id": "e260acaa",
   "metadata": {},
   "outputs": [
    {
     "data": {
      "text/plain": [
       "array([0.74405297, 0.73244656, 0.73619316, 0.73526461, 0.74033492])"
      ]
     },
     "execution_count": 4,
     "metadata": {},
     "output_type": "execute_result"
    }
   ],
   "source": [
    "X = df.drop(['price'], axis=1)\n",
    "y = df.price\n",
    "\n",
    "X_train, X_test, y_train, y_test = train_test_split(X, y, random_state=20)\n",
    "\n",
    "\n",
    "\n",
    "\n",
    "base_lr = LinearRegression()\n",
    "base_lr.fit(X_train,y_train)\n",
    "\n",
    "kcross_base = cross_val_score(base_lr,X_train,y_train,cv=5)\n",
    "\n",
    "\n",
    "kcross_base"
   ]
  },
  {
   "cell_type": "code",
   "execution_count": 5,
   "id": "887e01aa",
   "metadata": {},
   "outputs": [
    {
     "data": {
      "text/plain": [
       "0.7362612593137525"
      ]
     },
     "execution_count": 5,
     "metadata": {},
     "output_type": "execute_result"
    }
   ],
   "source": [
    "base_lr.score(X,y)"
   ]
  },
  {
   "cell_type": "markdown",
   "id": "e24ece27",
   "metadata": {},
   "source": [
    "Mean Squared error is about 0.7, with a fair amount of variance so the fit isn't great, may want to start adjusting to see what can improve. R^2 is 0.73, which is decent but could probably be improved with simple adjustments such as standardization."
   ]
  },
  {
   "cell_type": "code",
   "execution_count": null,
   "id": "eab49c40",
   "metadata": {},
   "outputs": [],
   "source": []
  },
  {
   "cell_type": "code",
   "execution_count": null,
   "id": "1049c3f0",
   "metadata": {},
   "outputs": [],
   "source": []
  },
  {
   "cell_type": "code",
   "execution_count": 6,
   "id": "e8c420ba",
   "metadata": {},
   "outputs": [
    {
     "data": {
      "text/plain": [
       "array([0.74397555, 0.7324418 , 0.73599671, 0.73526683, 0.74044842])"
      ]
     },
     "execution_count": 6,
     "metadata": {},
     "output_type": "execute_result"
    }
   ],
   "source": [
    "X = df.drop(['price'], axis=1)\n",
    "y = df.price\n",
    "\n",
    "X_train, X_test, y_train, y_test = train_test_split(X, y, random_state=20)\n",
    "\n",
    "\n",
    "scaler = StandardScaler()\n",
    "X_train = scaler.fit_transform(X_train)\n",
    "X_test = scaler.transform(X_test)\n",
    "\n",
    "fit_lr = LinearRegression()\n",
    "fit_lr.fit(X_train,y_train)\n",
    "\n",
    "kcross_fit = cross_val_score(fit_lr,X_train,y_train,cv=5)\n",
    "\n",
    "\n",
    "kcross_fit"
   ]
  },
  {
   "cell_type": "code",
   "execution_count": 7,
   "id": "1c42ea5a",
   "metadata": {},
   "outputs": [
    {
     "data": {
      "text/plain": [
       "0.741411271266943"
      ]
     },
     "execution_count": 7,
     "metadata": {},
     "output_type": "execute_result"
    }
   ],
   "source": [
    "fit_lr.score(X_train,y_train)"
   ]
  },
  {
   "cell_type": "markdown",
   "id": "26c436c7",
   "metadata": {},
   "source": [
    "That didn't make much of a difference it seems, well then let's explore whethor all of these determinents are necessary or wether they can be removed."
   ]
  },
  {
   "cell_type": "code",
   "execution_count": 8,
   "id": "889821f1",
   "metadata": {},
   "outputs": [],
   "source": [
    "#fig, ax = plt.subplots(figsize=(30,30))    \n",
    "#sns.heatmap(df.corr(), annot=True);"
   ]
  },
  {
   "cell_type": "markdown",
   "id": "18c1e906",
   "metadata": {},
   "source": [
    "Interesting things: since year built and year renovated are so similar only 1 should really, be used, of the 2 year built has the stronger correlation, however it's a negative correlation indicating for higher class homes be older is desireable. \n",
    "-bathroom count has a much stronger correlation than bedroom but neither are super strong(combine?). \n",
    "-sqft lot is an extremely weak correlation (could be dropped)\n",
    "-floors is also a ver weak correlation\n",
    "-similarly sqft_living15 and sqft_lot15** are also very weak\n",
    "-sqft_lot_diff is tiny(drop)"
   ]
  },
  {
   "cell_type": "markdown",
   "id": "c579e3c9",
   "metadata": {},
   "source": []
  },
  {
   "cell_type": "code",
   "execution_count": 9,
   "id": "7979833c",
   "metadata": {},
   "outputs": [
    {
     "data": {
      "text/plain": [
       "array([0.74410199, 0.73307005, 0.73562163, 0.73503313, 0.73986563])"
      ]
     },
     "execution_count": 9,
     "metadata": {},
     "output_type": "execute_result"
    }
   ],
   "source": [
    "#expirement 1: drop year renovated\n",
    "X = df.drop(['price','yr_renovated'], axis=1)\n",
    "y = df.price\n",
    "\n",
    "X_train, X_test, y_train, y_test = train_test_split(X, y, random_state=20)\n",
    "\n",
    "\n",
    "scaler = StandardScaler()\n",
    "X_train = scaler.fit_transform(X_train)\n",
    "X_test = scaler.transform(X_test)\n",
    "\n",
    "drop_1_lr = LinearRegression()\n",
    "drop_1_lr.fit(X_train,y_train)\n",
    "\n",
    "kcross_drop_1 = cross_val_score(drop_1_lr,X_train,y_train,cv=5)\n",
    "\n",
    "\n",
    "kcross_drop_1"
   ]
  },
  {
   "cell_type": "code",
   "execution_count": 10,
   "id": "fa435223",
   "metadata": {},
   "outputs": [
    {
     "data": {
      "text/plain": [
       "0.7411348607797915"
      ]
     },
     "execution_count": 10,
     "metadata": {},
     "output_type": "execute_result"
    }
   ],
   "source": [
    "drop_1_lr.score(X_train,y_train)"
   ]
  },
  {
   "cell_type": "markdown",
   "id": "5ed5b607",
   "metadata": {},
   "source": [
    "Ok that helped a fair bit, let's also do independant tests of dropping the other possibilities"
   ]
  },
  {
   "cell_type": "code",
   "execution_count": 11,
   "id": "f4b32027",
   "metadata": {},
   "outputs": [],
   "source": [
    "#expirement 2: drop sqft lot"
   ]
  },
  {
   "cell_type": "code",
   "execution_count": 12,
   "id": "b9ac7f9f",
   "metadata": {},
   "outputs": [
    {
     "data": {
      "text/plain": [
       "array([0.74391482, 0.73246561, 0.73619312, 0.73525432, 0.74043448])"
      ]
     },
     "execution_count": 12,
     "metadata": {},
     "output_type": "execute_result"
    }
   ],
   "source": [
    "\n",
    "X = df.drop(['price','sqft_lot'], axis=1)\n",
    "y = df.price\n",
    "\n",
    "X_train, X_test, y_train, y_test = train_test_split(X, y, random_state=20)\n",
    "\n",
    "\n",
    "scaler = StandardScaler()\n",
    "X_train = scaler.fit_transform(X_train)\n",
    "X_test = scaler.transform(X_test)\n",
    "\n",
    "drop_2_lr = LinearRegression()\n",
    "drop_2_lr.fit(X_train,y_train)\n",
    "\n",
    "kcross_drop_2 = cross_val_score(drop_2_lr,X_train,y_train,cv=5)\n",
    "\n",
    "\n",
    "kcross_drop_2"
   ]
  },
  {
   "cell_type": "code",
   "execution_count": 13,
   "id": "fadd1f5f",
   "metadata": {},
   "outputs": [
    {
     "data": {
      "text/plain": [
       "0.7414115739726365"
      ]
     },
     "execution_count": 13,
     "metadata": {},
     "output_type": "execute_result"
    }
   ],
   "source": [
    "drop_2_lr.score(X_train,y_train)"
   ]
  },
  {
   "cell_type": "markdown",
   "id": "6ed87563",
   "metadata": {},
   "source": [
    "This also seems a bit better but not as much change as with dropping yr_renovated"
   ]
  },
  {
   "cell_type": "code",
   "execution_count": 14,
   "id": "6f5b7b80",
   "metadata": {},
   "outputs": [
    {
     "data": {
      "text/plain": [
       "array([0.74354804, 0.73142044, 0.73580764, 0.73481958, 0.74033168])"
      ]
     },
     "execution_count": 14,
     "metadata": {},
     "output_type": "execute_result"
    }
   ],
   "source": [
    "#expirement 3: drop floors\n",
    "X = df.drop(['price','floors'], axis=1)\n",
    "y = df.price\n",
    "\n",
    "X_train, X_test, y_train, y_test = train_test_split(X, y, random_state=20)\n",
    "\n",
    "\n",
    "scaler = StandardScaler()\n",
    "X_train = scaler.fit_transform(X_train)\n",
    "X_test = scaler.transform(X_test)\n",
    "\n",
    "drop_3_lr = LinearRegression()\n",
    "drop_3_lr.fit(X_train,y_train)\n",
    "\n",
    "kcross_drop_3 = cross_val_score(drop_3_lr,X_train,y_train,cv=5)\n",
    "\n",
    "\n",
    "kcross_drop_3"
   ]
  },
  {
   "cell_type": "code",
   "execution_count": 15,
   "id": "0c6f0eb4",
   "metadata": {},
   "outputs": [
    {
     "data": {
      "text/plain": [
       "0.7408932486820232"
      ]
     },
     "execution_count": 15,
     "metadata": {},
     "output_type": "execute_result"
    }
   ],
   "source": [
    "drop_3_lr.score(X_train,y_train)"
   ]
  },
  {
   "cell_type": "markdown",
   "id": "2dcd3c5d",
   "metadata": {},
   "source": [
    "dropping this didn't really make much of a difference so we might want to further expirement with it later"
   ]
  },
  {
   "cell_type": "code",
   "execution_count": 16,
   "id": "332b93ee",
   "metadata": {},
   "outputs": [
    {
     "name": "stdout",
     "output_type": "stream",
     "text": [
      "[0.74407865 0.73243109 0.73599473 0.73528618 0.74044507]\n",
      "0.7414114048725855\n"
     ]
    }
   ],
   "source": [
    "#expirement 4:drop sqft_lot15\n",
    "X = df.drop(['price','sqft_lot15'], axis=1)\n",
    "y = df.price\n",
    "\n",
    "X_train, X_test, y_train, y_test = train_test_split(X, y, random_state=20)\n",
    "\n",
    "\n",
    "scaler = StandardScaler()\n",
    "X_train = scaler.fit_transform(X_train)\n",
    "X_test = scaler.transform(X_test)\n",
    "\n",
    "drop_4_lr = LinearRegression()\n",
    "drop_4_lr.fit(X_train,y_train)\n",
    "\n",
    "kcross_drop_4 = cross_val_score(drop_4_lr,X_train,y_train,cv=5)\n",
    "\n",
    "\n",
    "print(kcross_drop_4)\n",
    "print(drop_4_lr.score(X_train,y_train))"
   ]
  },
  {
   "cell_type": "markdown",
   "id": "5073f462",
   "metadata": {},
   "source": [
    "decent improvement: let's speed this up, by just dropping the bunch and seeing what happens"
   ]
  },
  {
   "cell_type": "code",
   "execution_count": 17,
   "id": "baaceb48",
   "metadata": {},
   "outputs": [
    {
     "name": "stdout",
     "output_type": "stream",
     "text": [
      "[0.74349472 0.73178623 0.734897   0.73395134 0.73958036]\n",
      "0.7401631097537034\n"
     ]
    }
   ],
   "source": [
    "#test 5 mass drop\n",
    "X = df.drop(['price', 'sqft_lot_diff', 'sqft_living15', 'sqft_lot', 'floors', 'sqft_lot15','yr_renovated'], axis=1)\n",
    "y = df.price\n",
    "\n",
    "X_train, X_test, y_train, y_test = train_test_split(X, y, random_state=20)\n",
    "\n",
    "\n",
    "scaler = StandardScaler()\n",
    "X_train = scaler.fit_transform(X_train)\n",
    "X_test = scaler.transform(X_test)\n",
    "\n",
    "drop_5_lr = LinearRegression()\n",
    "drop_5_lr.fit(X_train,y_train)\n",
    "\n",
    "kcross_drop_5 = cross_val_score(drop_5_lr,X_train,y_train,cv=5)\n",
    "\n",
    "\n",
    "print(kcross_drop_5)\n",
    "print(drop_5_lr.score(X_train,y_train))"
   ]
  },
  {
   "cell_type": "markdown",
   "id": "23d481eb",
   "metadata": {},
   "source": []
  },
  {
   "cell_type": "markdown",
   "id": "41383411",
   "metadata": {},
   "source": [
    "overall dropping some of the weaker predictors hasn't affected much but since they'll muddle the model overall we should probably just leave them out"
   ]
  },
  {
   "cell_type": "code",
   "execution_count": 18,
   "id": "632d08e4",
   "metadata": {},
   "outputs": [],
   "source": [
    "#df.drop([ 'sqft_lot_diff', 'sqft_living15', 'sqft_lot', 'floors', 'sqft_lot15'], axis=1, inplace =True)"
   ]
  },
  {
   "cell_type": "code",
   "execution_count": null,
   "id": "9d2e73a6",
   "metadata": {},
   "outputs": [],
   "source": []
  },
  {
   "cell_type": "markdown",
   "id": "9f76b405",
   "metadata": {},
   "source": [
    "strategies for tommorow:\n",
    "RFE could be used to find the strongest features and use them, for example I could do just the strongest 10 or so, see how that works\n",
    "Polynomial testing could also be used to help optimize, purhapse I could combine the techniques, see what stats stand out and work up from there.\n",
    "target: I would like to try and get up to at least 0.8 ish for an r^2 value\n",
    "could scale and log the price\n",
    "current 43ish columns, might want to cut down to 20ish, could be more efficent (needs testing("
   ]
  },
  {
   "cell_type": "markdown",
   "id": "20384774",
   "metadata": {},
   "source": [
    "For my first fix of the day I heard from my partners that they're models saw a lot of improvment from scaling and log transforming their price data so let's give that a try"
   ]
  },
  {
   "cell_type": "code",
   "execution_count": 19,
   "id": "0a59eeb5",
   "metadata": {},
   "outputs": [
    {
     "name": "stdout",
     "output_type": "stream",
     "text": [
      "[0.74396205 0.73243643 0.73596402 0.73526225 0.74044455]\n",
      "0.7414111256829028\n"
     ]
    }
   ],
   "source": [
    "X = df.drop(['price'], axis=1)\n",
    "y = df[['price']]\n",
    "\n",
    "X_train, X_test, y_train, y_test = train_test_split(X, y, random_state=20)\n",
    "\n",
    "\n",
    "scaler = StandardScaler()\n",
    "X_train = scaler.fit_transform(X_train)\n",
    "X_test = scaler.transform(X_test)\n",
    "y_scale = StandardScaler()\n",
    "y_train = y_scale.fit_transform(y_train)\n",
    "y_test = y_scale.transform(y_test)\n",
    "\n",
    "y_scale_lr = LinearRegression()\n",
    "y_scale_lr.fit(X_train,y_train)\n",
    "\n",
    "kcross_y_scale = cross_val_score(y_scale_lr,X_train,y_train,cv=5)\n",
    "\n",
    "\n",
    "print(kcross_y_scale)\n",
    "print(y_scale_lr.score(X_train,y_train))"
   ]
  },
  {
   "cell_type": "code",
   "execution_count": null,
   "id": "4864ea61",
   "metadata": {},
   "outputs": [],
   "source": [
    "df.describe()"
   ]
  },
  {
   "cell_type": "code",
   "execution_count": 1,
   "id": "a1d3b53c",
   "metadata": {},
   "outputs": [
    {
     "ename": "NameError",
     "evalue": "name 'pd' is not defined",
     "output_type": "error",
     "traceback": [
      "\u001b[0;31m---------------------------------------------------------------------------\u001b[0m",
      "\u001b[0;31mNameError\u001b[0m                                 Traceback (most recent call last)",
      "\u001b[0;32m<ipython-input-1-35efff2bc071>\u001b[0m in \u001b[0;36m<module>\u001b[0;34m\u001b[0m\n\u001b[1;32m      2\u001b[0m \u001b[0;34m\u001b[0m\u001b[0m\n\u001b[1;32m      3\u001b[0m \u001b[0;34m\u001b[0m\u001b[0m\n\u001b[0;32m----> 4\u001b[0;31m \u001b[0mpd\u001b[0m\u001b[0;34m.\u001b[0m\u001b[0mplotting\u001b[0m\u001b[0;34m.\u001b[0m\u001b[0mscatter_matrix\u001b[0m\u001b[0;34m(\u001b[0m\u001b[0mdf\u001b[0m\u001b[0;34m[\u001b[0m\u001b[0mnorm_check\u001b[0m\u001b[0;34m]\u001b[0m\u001b[0;34m,\u001b[0m \u001b[0mfigsize\u001b[0m\u001b[0;34m=\u001b[0m\u001b[0;34m(\u001b[0m\u001b[0;36m10\u001b[0m\u001b[0;34m,\u001b[0m\u001b[0;36m12\u001b[0m\u001b[0;34m)\u001b[0m\u001b[0;34m)\u001b[0m\u001b[0;34m;\u001b[0m\u001b[0;34m\u001b[0m\u001b[0;34m\u001b[0m\u001b[0m\n\u001b[0m\u001b[1;32m      5\u001b[0m \u001b[0;31m#transform(price,bathroomss,sqft_living,view, condition, grade, yr_built,yr_renovated)\u001b[0m\u001b[0;34m\u001b[0m\u001b[0;34m\u001b[0m\u001b[0;34m\u001b[0m\u001b[0m\n\u001b[1;32m      6\u001b[0m \u001b[0mdf\u001b[0m\u001b[0;34m.\u001b[0m\u001b[0minfo\u001b[0m\u001b[0;34m(\u001b[0m\u001b[0;34m)\u001b[0m\u001b[0;34m\u001b[0m\u001b[0;34m\u001b[0m\u001b[0m\n",
      "\u001b[0;31mNameError\u001b[0m: name 'pd' is not defined"
     ]
    }
   ],
   "source": [
    "norm_check = ['yr_built','yr_renovated','sqft_living_diff']\n",
    "\n",
    "\n",
    "pd.plotting.scatter_matrix(df[norm_check], figsize=(10,12));\n",
    "#transform(price,bathroomss,sqft_living,view, condition, grade, yr_built,yr_renovated)\n",
    "df.info()"
   ]
  },
  {
   "cell_type": "markdown",
   "id": "63659d2a",
   "metadata": {},
   "source": [
    "scaling alone didn't help much, let's log scale the non normal variables"
   ]
  },
  {
   "cell_type": "code",
   "execution_count": 21,
   "id": "5069a117",
   "metadata": {},
   "outputs": [
    {
     "name": "stdout",
     "output_type": "stream",
     "text": [
      "[0.78846662 0.78070737 0.78532041 0.78442703 0.77919531]\n",
      "0.7849094219465815\n"
     ]
    }
   ],
   "source": [
    "X = df.drop(['price'], axis=1)\n",
    "y = df[['price']]\n",
    "\n",
    "\n",
    "X_train, X_test, y_train, y_test = train_test_split(X, y, random_state=20)\n",
    "\n",
    "y_train = np.log(y_train)\n",
    "y_test = np.log(y_test)\n",
    "\n",
    "scaler = StandardScaler()\n",
    "X_train = scaler.fit_transform(X_train)\n",
    "X_test = scaler.transform(X_test)\n",
    "y_scale = StandardScaler()\n",
    "y_train = y_scale.fit_transform(y_train)\n",
    "y_test = y_scale.transform(y_test)\n",
    "\n",
    "\n",
    "\n",
    "\n",
    "y_scale_lr = LinearRegression()\n",
    "y_scale_lr.fit(X_train,y_train)\n",
    "\n",
    "kcross_y_scale = cross_val_score(y_scale_lr,X_train,y_train,cv=5)\n",
    "\n",
    "\n",
    "print(kcross_y_scale)\n",
    "print(y_scale_lr.score(X_train,y_train))"
   ]
  },
  {
   "cell_type": "markdown",
   "id": "1d6fd82d",
   "metadata": {},
   "source": [
    "Ok that made a significant improvement to the model, will definently keep that in the final model. Now since we've done a lot of the easy fixes let's go back and try and rebuild this model from nearly scratch, by using rfe to only indentify and use the strongest correlations."
   ]
  },
  {
   "cell_type": "code",
   "execution_count": 22,
   "id": "3861b574",
   "metadata": {},
   "outputs": [
    {
     "data": {
      "text/plain": [
       "[('price', False),\n",
       " ('bedrooms', False),\n",
       " ('bathrooms', True),\n",
       " ('sqft_living', False),\n",
       " ('sqft_lot', False),\n",
       " ('floors', False),\n",
       " ('waterfront', False),\n",
       " ('view', False),\n",
       " ('condition', True),\n",
       " ('grade', False),\n",
       " ('sqft_above', False),\n",
       " ('basement', False),\n",
       " ('yr_built', False),\n",
       " ('yr_renovated', True),\n",
       " ('sqft_living15', False),\n",
       " ('sqft_lot15', False),\n",
       " ('Auburn', True),\n",
       " ('Bellevue', False),\n",
       " ('Black_diamond', False),\n",
       " ('Bothell', False),\n",
       " ('Duball', False),\n",
       " ('Enumclaw', False),\n",
       " ('Fall city', True),\n",
       " ('Federal_way', False),\n",
       " ('Issaquah', False),\n",
       " ('Kenmore', False),\n",
       " ('Kent', True),\n",
       " ('Kirkland', False),\n",
       " ('Maple Valley', True),\n",
       " ('Medina', True),\n",
       " ('Mercer Island', False),\n",
       " ('North Bend', False),\n",
       " ('Renton', False),\n",
       " ('Sammamish', True),\n",
       " ('Seattle', False),\n",
       " ('Snoqualmie', False),\n",
       " ('Woodinville', True),\n",
       " ('sqft_living_diff', False),\n",
       " ('sqft_lot_diff', False),\n",
       " ('year', False),\n",
       " ('x0_fall', False),\n",
       " ('x0_spring', False),\n",
       " ('x0_summer', False)]"
      ]
     },
     "execution_count": 22,
     "metadata": {},
     "output_type": "execute_result"
    }
   ],
   "source": [
    "X = df.drop(['price'], axis=1)\n",
    "scaler = StandardScaler()\n",
    "X = scaler.fit_transform(X)\n",
    "lr_rfe = LinearRegression()\n",
    "select = RFE(lr_rfe, n_features_to_select=10)\n",
    "select.fit(X=X, y=df['price'])\n",
    "list(zip(df.columns, select.support_))"
   ]
  },
  {
   "cell_type": "code",
   "execution_count": null,
   "id": "545fbd57",
   "metadata": {},
   "outputs": [],
   "source": []
  },
  {
   "cell_type": "code",
   "execution_count": 23,
   "id": "067b3cd5",
   "metadata": {},
   "outputs": [
    {
     "data": {
      "text/plain": [
       "RFE(estimator=LinearRegression(), n_features_to_select=10)"
      ]
     },
     "execution_count": 23,
     "metadata": {},
     "output_type": "execute_result"
    }
   ],
   "source": [
    "select"
   ]
  },
  {
   "cell_type": "code",
   "execution_count": null,
   "id": "ea665a50",
   "metadata": {},
   "outputs": [],
   "source": []
  },
  {
   "cell_type": "markdown",
   "id": "b8318040",
   "metadata": {},
   "source": [
    "Top 10 predictors is a bit weird, only yr_renovated and the booleans for a bunch of values but let's try just using these predictors in a model"
   ]
  },
  {
   "cell_type": "code",
   "execution_count": 24,
   "id": "972ebc48",
   "metadata": {},
   "outputs": [
    {
     "name": "stdout",
     "output_type": "stream",
     "text": [
      "[0.18514273 0.18032271 0.18706239 0.17046884 0.19066176]\n",
      "0.18324604041031312\n"
     ]
    }
   ],
   "source": [
    "features = ['yr_renovated','Auburn','Enumclaw','Fall city', 'Kenmore',\n",
    "            'Kent','Kirkland','Maple Valley','Medina','Sammamish']\n",
    "X = df[features]\n",
    "y = df[['price']]\n",
    "\n",
    "\n",
    "X_train, X_test, y_train, y_test = train_test_split(X, y, random_state=20)\n",
    "\n",
    "y_train = np.log(y_train)\n",
    "y_test = np.log(y_test)\n",
    "\n",
    "scaler = StandardScaler()\n",
    "X_train = scaler.fit_transform(X_train)\n",
    "X_test = scaler.transform(X_test)\n",
    "y_scale = StandardScaler()\n",
    "y_train = y_scale.fit_transform(y_train)\n",
    "y_test = y_scale.transform(y_test)\n",
    "\n",
    "\n",
    "\n",
    "\n",
    "y_scale_lr = LinearRegression()\n",
    "y_scale_lr.fit(X_train,y_train)\n",
    "\n",
    "kcross_y_scale = cross_val_score(y_scale_lr,X_train,y_train,cv=5)\n",
    "\n",
    "\n",
    "print(kcross_y_scale)\n",
    "print(y_scale_lr.score(X_train,y_train))"
   ]
  },
  {
   "cell_type": "markdown",
   "id": "8e667cc4",
   "metadata": {},
   "source": [
    "This has definently weakened the model and way too much, let's do this again but with the top 15 predictors"
   ]
  },
  {
   "cell_type": "code",
   "execution_count": 25,
   "id": "f8c52a07",
   "metadata": {},
   "outputs": [
    {
     "data": {
      "text/plain": [
       "[('price', False),\n",
       " ('bedrooms', False),\n",
       " ('bathrooms', True),\n",
       " ('sqft_living', False),\n",
       " ('sqft_lot', False),\n",
       " ('floors', False),\n",
       " ('waterfront', False),\n",
       " ('view', False),\n",
       " ('condition', True),\n",
       " ('grade', False),\n",
       " ('sqft_above', False),\n",
       " ('basement', False),\n",
       " ('yr_built', False),\n",
       " ('yr_renovated', False),\n",
       " ('sqft_living15', False),\n",
       " ('sqft_lot15', False),\n",
       " ('Auburn', True),\n",
       " ('Bellevue', False),\n",
       " ('Black_diamond', False),\n",
       " ('Bothell', False),\n",
       " ('Duball', False),\n",
       " ('Enumclaw', False),\n",
       " ('Fall city', False),\n",
       " ('Federal_way', False),\n",
       " ('Issaquah', False),\n",
       " ('Kenmore', False),\n",
       " ('Kent', False),\n",
       " ('Kirkland', False),\n",
       " ('Maple Valley', True),\n",
       " ('Medina', False),\n",
       " ('Mercer Island', False),\n",
       " ('North Bend', False),\n",
       " ('Renton', False),\n",
       " ('Sammamish', True),\n",
       " ('Seattle', False),\n",
       " ('Snoqualmie', False),\n",
       " ('Woodinville', False),\n",
       " ('sqft_living_diff', False),\n",
       " ('sqft_lot_diff', False),\n",
       " ('year', False),\n",
       " ('x0_fall', False),\n",
       " ('x0_spring', False),\n",
       " ('x0_summer', False)]"
      ]
     },
     "execution_count": 25,
     "metadata": {},
     "output_type": "execute_result"
    }
   ],
   "source": [
    "X = df.drop(['price'], axis=1)\n",
    "scaler = StandardScaler()\n",
    "X = scaler.fit_transform(X)\n",
    "lr_rfe = LinearRegression()\n",
    "select = RFE(lr_rfe, n_features_to_select=5)\n",
    "select.fit(X=X, y=df['price'])\n",
    "list(zip(df.columns, select.support_))"
   ]
  },
  {
   "cell_type": "code",
   "execution_count": 26,
   "id": "9001629b",
   "metadata": {},
   "outputs": [
    {
     "name": "stdout",
     "output_type": "stream",
     "text": [
      "[0.78846662 0.78070737 0.78532041 0.78442703 0.77919531]\n",
      "0.7849094219465815\n"
     ]
    }
   ],
   "source": [
    "features = ['price']\n",
    "\n",
    "X = df.drop(features,axis=1)\n",
    "y = df[['price']]\n",
    "\n",
    "\n",
    "X_train, X_test, y_train, y_test = train_test_split(X, y, random_state=20)\n",
    "\n",
    "y_train = np.log(y_train)\n",
    "y_test = np.log(y_test)\n",
    "\n",
    "scaler = StandardScaler()\n",
    "X_train = scaler.fit_transform(X_train)\n",
    "X_test = scaler.transform(X_test)\n",
    "y_scale = StandardScaler()\n",
    "y_train = y_scale.fit_transform(y_train)\n",
    "y_test = y_scale.transform(y_test)\n",
    "\n",
    "\n",
    "\n",
    "\n",
    "y_scale_lr = LinearRegression()\n",
    "y_scale_lr.fit(X_train,y_train)\n",
    "\n",
    "kcross_y_scale = cross_val_score(y_scale_lr,X_train,y_train,cv=5)\n",
    "\n",
    "\n",
    "print(kcross_y_scale)\n",
    "print(y_scale_lr.score(X_train,y_train))"
   ]
  },
  {
   "cell_type": "code",
   "execution_count": 27,
   "id": "c3bb8149",
   "metadata": {},
   "outputs": [
    {
     "name": "stdout",
     "output_type": "stream",
     "text": [
      "<class 'pandas.core.frame.DataFrame'>\n",
      "Int64Index: 21242 entries, 0 to 21418\n",
      "Data columns (total 44 columns):\n",
      " #   Column            Non-Null Count  Dtype  \n",
      "---  ------            --------------  -----  \n",
      " 0   price             21242 non-null  float64\n",
      " 1   bedrooms          21242 non-null  float64\n",
      " 2   bathrooms         21242 non-null  float64\n",
      " 3   sqft_living       21242 non-null  float64\n",
      " 4   sqft_lot          21242 non-null  float64\n",
      " 5   floors            21242 non-null  float64\n",
      " 6   waterfront        21242 non-null  int64  \n",
      " 7   view              21242 non-null  float64\n",
      " 8   condition         21242 non-null  float64\n",
      " 9   grade             21242 non-null  float64\n",
      " 10  sqft_above        21242 non-null  float64\n",
      " 11  basement          21242 non-null  int64  \n",
      " 12  yr_built          21242 non-null  float64\n",
      " 13  yr_renovated      21242 non-null  float64\n",
      " 14  sqft_living15     21242 non-null  float64\n",
      " 15  sqft_lot15        21242 non-null  float64\n",
      " 16  Auburn            21242 non-null  float64\n",
      " 17  Bellevue          21242 non-null  float64\n",
      " 18  Black_diamond     21242 non-null  float64\n",
      " 19  Bothell           21242 non-null  float64\n",
      " 20  Duball            21242 non-null  float64\n",
      " 21  Enumclaw          21242 non-null  float64\n",
      " 22  Fall city         21242 non-null  float64\n",
      " 23  Federal_way       21242 non-null  float64\n",
      " 24  Issaquah          21242 non-null  float64\n",
      " 25  Kenmore           21242 non-null  float64\n",
      " 26  Kent              21242 non-null  float64\n",
      " 27  Kirkland          21242 non-null  float64\n",
      " 28  Maple Valley      21242 non-null  float64\n",
      " 29  Medina            21242 non-null  float64\n",
      " 30  Mercer Island     21242 non-null  float64\n",
      " 31  North Bend        21242 non-null  float64\n",
      " 32  Renton            21242 non-null  float64\n",
      " 33  Sammamish         21242 non-null  float64\n",
      " 34  Seattle           21242 non-null  float64\n",
      " 35  Snoqualmie        21242 non-null  float64\n",
      " 36  Woodinville       21242 non-null  float64\n",
      " 37  sqft_living_diff  21242 non-null  float64\n",
      " 38  sqft_lot_diff     21242 non-null  float64\n",
      " 39  year              21242 non-null  float64\n",
      " 40  x0_fall           21242 non-null  float64\n",
      " 41  x0_spring         21242 non-null  float64\n",
      " 42  x0_summer         21242 non-null  float64\n",
      " 43  x0_winter         21242 non-null  float64\n",
      "dtypes: float64(42), int64(2)\n",
      "memory usage: 7.3 MB\n"
     ]
    }
   ],
   "source": [
    "df.info()"
   ]
  },
  {
   "cell_type": "code",
   "execution_count": 28,
   "id": "40dfae7a",
   "metadata": {},
   "outputs": [
    {
     "data": {
      "text/plain": [
       "0.0479616543805167"
      ]
     },
     "execution_count": 28,
     "metadata": {},
     "output_type": "execute_result"
    }
   ],
   "source": [
    "df.corr()['yr_built']['price']"
   ]
  },
  {
   "cell_type": "code",
   "execution_count": 29,
   "id": "31bae554",
   "metadata": {},
   "outputs": [
    {
     "data": {
      "text/plain": [
       "0.036222811651648354"
      ]
     },
     "execution_count": 29,
     "metadata": {},
     "output_type": "execute_result"
    }
   ],
   "source": [
    "df.corr()['condition']['price']"
   ]
  },
  {
   "cell_type": "code",
   "execution_count": 30,
   "id": "f5d67de3",
   "metadata": {},
   "outputs": [
    {
     "data": {
      "text/plain": [
       "0.7001107489171242"
      ]
     },
     "execution_count": 30,
     "metadata": {},
     "output_type": "execute_result"
    }
   ],
   "source": [
    "df.corr()['sqft_living']['price']"
   ]
  },
  {
   "cell_type": "code",
   "execution_count": 31,
   "id": "49f382d8",
   "metadata": {},
   "outputs": [
    {
     "data": {
      "text/plain": [
       "0.03954978365451772"
      ]
     },
     "execution_count": 31,
     "metadata": {},
     "output_type": "execute_result"
    }
   ],
   "source": [
    "df['test'] = df['condition'] * df['yr_built']\n",
    "df.corr()['test']['price']"
   ]
  },
  {
   "cell_type": "code",
   "execution_count": 32,
   "id": "c9a7619b",
   "metadata": {},
   "outputs": [],
   "source": [
    "#drop sqft lot diff, sqft_living15\n",
    "#replace yr_renovated with yr_renovated - 'yr_built'\n",
    "#replace basement with sqft_above - sqft_living\n",
    "#replace year with year - yr_built (0.25286747067857296)"
   ]
  },
  {
   "cell_type": "markdown",
   "id": "14b92123",
   "metadata": {},
   "source": [
    "RFE was a bit of a bust so let's try out some feature modification"
   ]
  },
  {
   "cell_type": "code",
   "execution_count": 33,
   "id": "74ccc5d0",
   "metadata": {},
   "outputs": [],
   "source": [
    "df['yr_till_renovation'] = df['yr_renovated'] - df['yr_built']\n",
    "df['sqft_living-above'] = df['sqft_above'] - df['sqft_living']\n",
    "df['yr_since_built'] = df['year'] - df['yr_built']\n",
    "to_drop = ['sqft_lot_diff','sqft_living15','yr_renovated','basement','year']\n",
    "df.drop(to_drop,axis=1,inplace=True)"
   ]
  },
  {
   "cell_type": "code",
   "execution_count": 34,
   "id": "7022efa7",
   "metadata": {},
   "outputs": [
    {
     "name": "stdout",
     "output_type": "stream",
     "text": [
      "[0.78644246 0.77899278 0.78506699 0.78277867 0.78200962]\n",
      "0.7841642484178578\n"
     ]
    }
   ],
   "source": [
    "features = ['price']\n",
    "\n",
    "X = df.drop(features,axis=1)\n",
    "y = df[['price']]\n",
    "\n",
    "\n",
    "X_train, X_test, y_train, y_test = train_test_split(X, y,random_state=20)\n",
    "\n",
    "y_train = np.log(y_train)\n",
    "y_test = np.log(y_test)\n",
    "\n",
    "scaler = StandardScaler()\n",
    "X_train = scaler.fit_transform(X_train)\n",
    "X_test = scaler.transform(X_test)\n",
    "y_scale = StandardScaler()\n",
    "y_train = y_scale.fit_transform(y_train)\n",
    "y_test = y_scale.transform(y_test)\n",
    "\n",
    "\n",
    "\n",
    "\n",
    "y_scale_lr = LinearRegression()\n",
    "y_scale_lr.fit(X_train,y_train)\n",
    "\n",
    "kcross_y_scale = cross_val_score(y_scale_lr,X_train,y_train,cv=5)\n",
    "\n",
    "\n",
    "print(kcross_y_scale)\n",
    "print(y_scale_lr.score(X_train,y_train))"
   ]
  },
  {
   "cell_type": "markdown",
   "id": "1c61e11b",
   "metadata": {},
   "source": [
    "[0.74711514 0.68070726 0.76656255 0.74813784 0.73221824]\n",
    "0.7535956335278464 (10-13)\n",
    "\n",
    "+1\n",
    "0.76590625 0.78153711 0.74161808 0.75100609 0.74963896]\n",
    "0.7631368805986477 (9-13)\n",
    "\n",
    "[0.78483094 0.78684131 0.78054143 0.78329858 0.79683797]\n",
    "0.789655482805903 (8-13)\n",
    "\n",
    "[0.78686312 0.78277848 0.79756535 0.78893084 0.77070967]\n",
    "0.7871788958415462 (7-13)\n",
    "\n",
    "[0.78890446 0.77860018 0.77209381 0.79296021 0.77829889]\n",
    "0.7834146315482557 (6-13)\n",
    "\n",
    "[0.78617051 0.77474849 0.77054085 0.76458502 0.78848722]\n",
    "0.7783535266094074 (5-13)\n",
    "\n",
    "[0.78644246 0.77899278 0.78506699 0.78277867 0.78200962]\n",
    "0.7841642484178578 (data:all)\n"
   ]
  },
  {
   "cell_type": "code",
   "execution_count": null,
   "id": "504a9811",
   "metadata": {},
   "outputs": [],
   "source": []
  }
 ],
 "metadata": {
  "kernelspec": {
   "display_name": "Python 3",
   "language": "python",
   "name": "python3"
  },
  "language_info": {
   "codemirror_mode": {
    "name": "ipython",
    "version": 3
   },
   "file_extension": ".py",
   "mimetype": "text/x-python",
   "name": "python",
   "nbconvert_exporter": "python",
   "pygments_lexer": "ipython3",
   "version": "3.8.8"
  }
 },
 "nbformat": 4,
 "nbformat_minor": 5
}
